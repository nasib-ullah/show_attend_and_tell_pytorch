{
 "cells": [
  {
   "cell_type": "markdown",
   "metadata": {},
   "source": [
    "# Importing Libraries and Setting Seed for Reproducibility"
   ]
  },
  {
   "cell_type": "code",
   "execution_count": 1,
   "metadata": {},
   "outputs": [],
   "source": [
    "import numpy as np\n",
    "import pandas as pd\n",
    "import math\n",
    "import random\n",
    "import os\n",
    "import pickle\n",
    "import time\n",
    "import json\n",
    "import torch\n",
    "import torch.nn as nn\n",
    "from torch.nn import functional as F\n",
    "\n",
    "from dictionary import Vocabulary,EOS_token,PAD_token,SOS_token,UNK_token\n",
    "from utils import Utils\n",
    "from config import Config,Path\n",
    "from model import ShowAttendTell\n",
    "from data import DataHandler\n",
    "from evaluate import Evaluator\n",
    "\n",
    "from torchvision.models import resnet101\n",
    "\n",
    "utils = Utils()\n",
    "#set seed for reproducibility\n",
    "utils.set_seed(1)"
   ]
  },
  {
   "cell_type": "markdown",
   "metadata": {},
   "source": [
    "# Configuration of Hyperparameters"
   ]
  },
  {
   "cell_type": "code",
   "execution_count": 2,
   "metadata": {},
   "outputs": [
    {
     "name": "stdout",
     "output_type": "stream",
     "text": [
      "Device in Use:  cuda:1\n",
      "Device Properties:  _CudaDeviceProperties(name='GeForce RTX 2080 Ti', major=7, minor=5, total_memory=11019MB, multi_processor_count=68)\n",
      "keep_words 8730 / 22905 = 0.3811\n",
      "Vocabulary size : 8733\n"
     ]
    }
   ],
   "source": [
    "cfg = Config()\n",
    "\n",
    "dataset_path = '/media/nasibullah/Ubuntu/DataSets/Vision_Language_Tasks/COCO2014/'\n",
    "path = Path(dataset_path)\n",
    "\n",
    "print('Device in Use: ',cfg.device)\n",
    "print('Device Properties: ',torch.cuda.get_device_properties(cfg.device))\n",
    "\n",
    "#Change hyperparameters here  \n",
    "#Config.encoder_arch = 'resnet'\n",
    "#Config.feat_size = 1024\n",
    "#Config.batch_size = 42\n",
    "\n",
    "\n",
    "voc = Vocabulary('COCO_TRAIN')\n",
    "voc.load()\n",
    "voc.trim(min_count=5) # remove words having freq0.000001,0.0001,1.0uency less than min_count\n",
    "print('Vocabulary size :',voc.num_words)"
   ]
  },
  {
   "cell_type": "markdown",
   "metadata": {},
   "source": [
    "# Creation of Datasets and Dataloaders"
   ]
  },
  {
   "cell_type": "code",
   "execution_count": 3,
   "metadata": {},
   "outputs": [
    {
     "name": "stdout",
     "output_type": "stream",
     "text": [
      "loading annotations into memory...\n",
      "Done (t=0.75s)\n",
      "creating index...\n",
      "index created!\n",
      "loading annotations into memory...\n",
      "Done (t=0.35s)\n",
      "creating index...\n",
      "index created!\n"
     ]
    },
    {
     "data": {
      "text/plain": [
       "(torch.Size([64, 3, 224, 224]),\n",
       " torch.Size([22, 64]),\n",
       " torch.Size([22, 64]),\n",
       " torch.Size([64]))"
      ]
     },
     "execution_count": 3,
     "metadata": {},
     "output_type": "execute_result"
    }
   ],
   "source": [
    "datahandler = DataHandler(cfg,path,voc)\n",
    "train_dset,val_dset,test_dset = datahandler.getDataSets(utils)\n",
    "train_loader,val_loader,test_loader = datahandler.getDataLoaders(train_dset,val_dset,test_dset)\n",
    "\n",
    "\n",
    "dataiter = iter(train_loader)\n",
    "features, targets, mask, max_length,ides= dataiter.next()\n",
    "features.size(),targets.size(),mask.size(),ides.size()"
   ]
  },
  {
   "cell_type": "markdown",
   "metadata": {},
   "source": [
    "# Model Creation and Defining Evaluator"
   ]
  },
  {
   "cell_type": "code",
   "execution_count": 4,
   "metadata": {},
   "outputs": [
    {
     "name": "stderr",
     "output_type": "stream",
     "text": [
      "/home/nasibullah/anaconda3/lib/python3.7/site-packages/torch/nn/modules/rnn.py:61: UserWarning: dropout option adds dropout after all but last recurrent layer, so non-zero dropout expects num_layers greater than 1, but got dropout=0.5 and num_layers=1\n",
      "  \"num_layers={}\".format(dropout, num_layers))\n"
     ]
    }
   ],
   "source": [
    "model = ShowAttendTell(voc,cfg)\n",
    "\n",
    "val_evaluator = Evaluator(val_loader,path,cfg,str(path.val_annotation_file))"
   ]
  },
  {
   "cell_type": "markdown",
   "metadata": {},
   "source": [
    "# Training Loop"
   ]
  },
  {
   "cell_type": "code",
   "execution_count": 5,
   "metadata": {},
   "outputs": [
    {
     "name": "stderr",
     "output_type": "stream",
     "text": [
      "/home/nasibullah/Dropbox/Anaconda_Workspace/CodeSpace/Vision and Language/Image Captioning/Show Attend and Tell/COCO2014/utils.py:73: UserWarning: indexing with dtype torch.uint8 is now deprecated, please use a dtype torch.bool instead. (Triggered internally at  /opt/conda/conda-bld/pytorch_1607370156314/work/aten/src/ATen/native/IndexingUtils.h:25.)\n",
      "  loss = crossEntropy.masked_select(mask).mean()\n"
     ]
    },
    {
     "name": "stdout",
     "output_type": "stream",
     "text": [
      "Iteration: 400; Percent complete: 30.9%; Average loss: 4.0590\n",
      "Iteration: 800; Percent complete: 61.9%; Average loss: 3.2842\n",
      "Iteration: 1200; Percent complete: 92.8%; Average loss: 3.0743\n",
      " Epoch : 1  Loss : 3.4374030550019854\n",
      "{'testlen': 400590, 'reflen': 394372, 'guess': [400590, 360086, 319582, 279078], 'correct': [210096, 78897, 26575, 9204]}\n",
      "ratio: 1.0157668394307886\n",
      "[(['Bleu_1', 'Bleu_2', 'Bleu_3', 'Bleu_4'], [0.5244664120422364, 0.3389892817456947, 0.2122043580659995, 0.1332381138592167]), ('METEOR', 0.15638880303737998), ('ROUGE_L', 0.3990901394213532), ('CIDEr', 0.33469285780026675)]\n"
     ]
    },
    {
     "name": "stderr",
     "output_type": "stream",
     "text": [
      "/home/nasibullah/Dropbox/Anaconda_Workspace/CodeSpace/Vision and Language/Image Captioning/Show Attend and Tell/COCO2014/utils.py:73: UserWarning: indexing with dtype torch.uint8 is now deprecated, please use a dtype torch.bool instead. (Triggered internally at  /opt/conda/conda-bld/pytorch_1607370156314/work/aten/src/ATen/native/IndexingUtils.h:25.)\n",
      "  loss = crossEntropy.masked_select(mask).mean()\n"
     ]
    },
    {
     "name": "stdout",
     "output_type": "stream",
     "text": [
      "Iteration: 400; Percent complete: 30.9%; Average loss: 2.8984\n",
      "Iteration: 800; Percent complete: 61.9%; Average loss: 2.8263\n",
      "Iteration: 1200; Percent complete: 92.8%; Average loss: 2.7773\n",
      " Epoch : 2  Loss : 2.827663024164434\n",
      "{'testlen': 446976, 'reflen': 428369, 'guess': [446976, 406472, 365968, 325464], 'correct': [247518, 99555, 34996, 12721]}\n",
      "ratio: 1.0434368500054836\n",
      "[(['Bleu_1', 'Bleu_2', 'Bleu_3', 'Bleu_4'], [0.5537612757731947, 0.36827947247689796, 0.23495071626482705, 0.15005039870369985]), ('METEOR', 0.1796180297518337), ('ROUGE_L', 0.4239189021698589), ('CIDEr', 0.4249693392659399)]\n"
     ]
    },
    {
     "name": "stderr",
     "output_type": "stream",
     "text": [
      "/home/nasibullah/Dropbox/Anaconda_Workspace/CodeSpace/Vision and Language/Image Captioning/Show Attend and Tell/COCO2014/utils.py:73: UserWarning: indexing with dtype torch.uint8 is now deprecated, please use a dtype torch.bool instead. (Triggered internally at  /opt/conda/conda-bld/pytorch_1607370156314/work/aten/src/ATen/native/IndexingUtils.h:25.)\n",
      "  loss = crossEntropy.masked_select(mask).mean()\n"
     ]
    },
    {
     "name": "stdout",
     "output_type": "stream",
     "text": [
      "Iteration: 400; Percent complete: 30.9%; Average loss: 2.6974\n",
      "Iteration: 800; Percent complete: 61.9%; Average loss: 2.6790\n",
      "Iteration: 1200; Percent complete: 92.8%; Average loss: 2.6570\n",
      " Epoch : 3  Loss : 2.6745554067042576\n",
      "{'testlen': 438544, 'reflen': 423240, 'guess': [438544, 398040, 357536, 317032], 'correct': [246742, 103870, 39031, 15412]}\n",
      "ratio: 1.036159153199128\n",
      "[(['Bleu_1', 'Bleu_2', 'Bleu_3', 'Bleu_4'], [0.5626390966470854, 0.38317455401182127, 0.2521318676329153, 0.16707435015108096]), ('METEOR', 0.18641106016881506), ('ROUGE_L', 0.43461101003142216), ('CIDEr', 0.4553852913244559)]\n"
     ]
    },
    {
     "name": "stderr",
     "output_type": "stream",
     "text": [
      "/home/nasibullah/Dropbox/Anaconda_Workspace/CodeSpace/Vision and Language/Image Captioning/Show Attend and Tell/COCO2014/utils.py:73: UserWarning: indexing with dtype torch.uint8 is now deprecated, please use a dtype torch.bool instead. (Triggered internally at  /opt/conda/conda-bld/pytorch_1607370156314/work/aten/src/ATen/native/IndexingUtils.h:25.)\n",
      "  loss = crossEntropy.masked_select(mask).mean()\n"
     ]
    },
    {
     "name": "stdout",
     "output_type": "stream",
     "text": [
      "Iteration: 400; Percent complete: 30.9%; Average loss: 2.6045\n",
      "Iteration: 800; Percent complete: 61.9%; Average loss: 2.5986\n",
      "Iteration: 1200; Percent complete: 92.8%; Average loss: 2.5793\n",
      " Epoch : 4  Loss : 2.5939382484092586\n",
      "{'testlen': 450252, 'reflen': 431173, 'guess': [450252, 409748, 369244, 328740], 'correct': [251906, 106925, 40086, 15735]}\n",
      "ratio: 1.0442490601220369\n",
      "[(['Bleu_1', 'Bleu_2', 'Bleu_3', 'Bleu_4'], [0.5594778035411269, 0.38209612984568425, 0.25119337684459114, 0.1659623926379734]), ('METEOR', 0.1894629277517949), ('ROUGE_L', 0.4342418223126701), ('CIDEr', 0.4583116212599615)]\n"
     ]
    }
   ],
   "source": [
    "cfg.encoder_lr = 1e-5\n",
    "cfg.decoder_lr = 1e-3\n",
    "cfg.teacher_forcing_ratio = 1.0\n",
    "model.update_hyperparam(cfg)\n",
    "\n",
    "for epoch in range(1,5):\n",
    "    model.train()\n",
    "    loss = model.train_epoch(train_loader,utils)\n",
    "    print(' Epoch :',epoch,' Loss :',loss)\n",
    "    scores = val_evaluator.evaluate(model,epoch)\n",
    "    print(scores)"
   ]
  },
  {
   "cell_type": "markdown",
   "metadata": {},
   "source": [
    "# Inference and Visualization"
   ]
  },
  {
   "cell_type": "code",
   "execution_count": null,
   "metadata": {},
   "outputs": [],
   "source": [
    "#visualization\n",
    "dataiter = iter(val_loader)\n",
    "features,_,_,_,ide = dataiter.next()\n",
    "\n",
    "print(features.size())\n",
    "ct,ctx,aw = model.Greedy_Decoding(features.to(cfg.device))\n",
    "ctx"
   ]
  },
  {
   "cell_type": "code",
   "execution_count": null,
   "metadata": {},
   "outputs": [],
   "source": [
    "import matplotlib.pyplot as plt\n",
    "plt.rcParams['figure.figsize'] = [14, 14]\n",
    "import skimage.transform\n",
    "\n",
    "num = 10\n",
    "words = ctx[num].split(' ')\n",
    "img = features[num].permute(1,2,0).numpy()\n",
    "print(ctx[num])\n",
    "plt.subplot(4, 5, 1)\n",
    "plt.imshow(img)\n",
    "plt.axis('off')\n",
    "\n",
    "for t in range(len(words)):\n",
    "        if t > 15:\n",
    "            break\n",
    "        plt.subplot(4, 4, t+2)\n",
    "        plt.text(0, 1, '%s'%(words[t]) , color='black', backgroundcolor='white', fontsize=10)\n",
    "        plt.imshow(img)\n",
    "        alp_curr = aw[t,num,:].reshape(14,14)\n",
    "        alp_img = skimage.transform.pyramid_expand(alp_curr, upscale=16, sigma=20)\n",
    "        plt.imshow(alp_img, alpha=0.70)\n",
    "        plt.axis('off')\n",
    "plt.show()"
   ]
  },
  {
   "cell_type": "code",
   "execution_count": null,
   "metadata": {},
   "outputs": [],
   "source": [
    "# #Result generation for test files\n",
    "# result = []\n",
    "# ide_list = []\n",
    "# caption_list =[]\n",
    "# model.eval()\n",
    "# with torch.no_grad():\n",
    "#     for data in tqdm(test_loader):\n",
    "#         ides, features = data\n",
    "#         cap,cap_txt = model.Greedy_Decoding(features.to(device))\n",
    "#         ide_list += list(ides.cpu().numpy())\n",
    "#         caption_list += cap_txt\n",
    "# for a in zip(ide_list,caption_list):\n",
    "#     result.append({'image_id':a[0].item(),'caption':a[1].strip()}) \n",
    "    \n",
    "# predicted_test_file = os.path.join(prediction_file_path,'captions_test2014_SAT_results.json') \n",
    "# with open(predicted_test_file, 'w') as fp:\n",
    "#     json.dump(result,fp)"
   ]
  },
  {
   "cell_type": "code",
   "execution_count": null,
   "metadata": {},
   "outputs": [],
   "source": [
    "# Epoch : lr, tf ratio  Bleu4(epoch no)\n",
    "# 1-10 : 1e-3, 0.5       14\n",
    "# 10-15 : 1e-3, 0.5      15\n",
    "# 15-25 : 1e-4, 0.4      15.5\n",
    "# 25-30 : 1e-3, 0.7      18\n",
    "# 30-33 : 1e-4, 0.8      20.6 (32)\n",
    "# 33 - 35 : 1e-4, 0.9    22.9 (35)  \n",
    "# 36 - 38 : 1e-4, 1.0    24.1 (38)\n",
    "# 39 - 41 : 1e-4, 1.0    24.16 (39)\n",
    "\n",
    "\n",
    "# 1,6    1e-3     0.7     19\n",
    "# 6,16   1e-4     1.0     25.5\n",
    "# 16,21  1e-4     1.0     25.6\n",
    "# 21,26  1e-4     1.0     25.8\n",
    "# 26,31  1e-4     1.0     25.79\n",
    "# 31,34  1e-3     1.0 "
   ]
  }
 ],
 "metadata": {
  "kernelspec": {
   "display_name": "Python 3",
   "language": "python",
   "name": "python3"
  },
  "language_info": {
   "codemirror_mode": {
    "name": "ipython",
    "version": 3
   },
   "file_extension": ".py",
   "mimetype": "text/x-python",
   "name": "python",
   "nbconvert_exporter": "python",
   "pygments_lexer": "ipython3",
   "version": "3.7.3"
  },
  "latex_envs": {
   "LaTeX_envs_menu_present": true,
   "autoclose": false,
   "autocomplete": true,
   "bibliofile": "biblio.bib",
   "cite_by": "apalike",
   "current_citInitial": 1,
   "eqLabelWithNumbers": true,
   "eqNumInitial": 1,
   "hotkeys": {
    "equation": "Ctrl-E",
    "itemize": "Ctrl-I"
   },
   "labels_anchors": false,
   "latex_user_defs": false,
   "report_style_numbering": false,
   "user_envs_cfg": false
  },
  "toc": {
   "base_numbering": 1,
   "nav_menu": {},
   "number_sections": true,
   "sideBar": true,
   "skip_h1_title": false,
   "title_cell": "Table of Contents",
   "title_sidebar": "Contents",
   "toc_cell": false,
   "toc_position": {},
   "toc_section_display": true,
   "toc_window_display": false
  },
  "varInspector": {
   "cols": {
    "lenName": 16,
    "lenType": 16,
    "lenVar": 40
   },
   "kernels_config": {
    "python": {
     "delete_cmd_postfix": "",
     "delete_cmd_prefix": "del ",
     "library": "var_list.py",
     "varRefreshCmd": "print(var_dic_list())"
    },
    "r": {
     "delete_cmd_postfix": ") ",
     "delete_cmd_prefix": "rm(",
     "library": "var_list.r",
     "varRefreshCmd": "cat(var_dic_list()) "
    }
   },
   "types_to_exclude": [
    "module",
    "function",
    "builtin_function_or_method",
    "instance",
    "_Feature"
   ],
   "window_display": false
  }
 },
 "nbformat": 4,
 "nbformat_minor": 4
}
